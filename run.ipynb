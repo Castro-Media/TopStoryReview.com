{
  "cells": [
    {
      "cell_type": "markdown",
      "id": "c3e1e176",
      "metadata": {},
      "source": [
        "# Run Script"
      ]
    },
    {
      "cell_type": "markdown",
      "id": "c5bd7ddf",
      "metadata": {},
      "source": [
        "This notebook fetches news data and builds the site."
      ]
    },
    {
      "cell_type": "markdown",
      "id": "58a4383f",
      "metadata": {},
      "source": [
        "## Setup"
      ]
    },
    {
      "cell_type": "code",
      "execution_count": 27,
      "id": "2623c323",
      "metadata": {},
      "outputs": [],
      "source": [
        "import importlib\n",
        "import subprocess\n",
        "import sys\n",
        "from pathlib import Path\n",
        "import json\n",
        "import datetime as dt\n",
        "\n",
        "def ensure(pkg):\n",
        "    try:\n",
        "        return importlib.import_module(pkg)\n",
        "    except ModuleNotFoundError:\n",
        "        subprocess.check_call([sys.executable, '-m', 'pip', 'install', pkg])\n",
        "        return importlib.import_module(pkg)\n",
        "\n",
        "requests = ensure('requests')"
      ]
    },
    {
      "cell_type": "markdown",
      "id": "8c724476",
      "metadata": {},
      "source": [
        "## Fetch latest data"
      ]
    },
    {
      "cell_type": "code",
      "execution_count": 28,
      "id": "e4ead0a5",
      "metadata": {},
      "outputs": [],
      "source": [
        "def fetch_json(url):\n",
        "    resp = requests.get(url)\n",
        "    resp.raise_for_status()\n",
        "    return resp.json()\n",
        "\n",
        "def to_entities(obj):\n",
        "    if isinstance(obj, str):\n",
        "        return obj.encode('ascii', 'xmlcharrefreplace').decode('ascii')\n",
        "    if isinstance(obj, list):\n",
        "        return [to_entities(x) for x in obj]\n",
        "    if isinstance(obj, dict):\n",
        "        return {k: to_entities(v) for k, v in obj.items()}\n",
        "    return obj\n",
        "\n",
        "TOP_URL = 'https://analysis.castromedia.org/analysis/news-topics/top.json'\n",
        "ANALYSIS_URLS = {\n",
        "    '1h.json': 'https://analysis.castromedia.org/analysis/headline_analysis/1h.json',\n",
        "    '24h.json': 'https://analysis.castromedia.org/analysis/headline_analysis/24h.json',\n",
        "    '7d.json': 'https://analysis.castromedia.org/analysis/headline_analysis/7d.json',\n",
        "}\n",
        "\n",
        "Path('top.json').write_text(json.dumps(to_entities(fetch_json(TOP_URL)), indent=2, ensure_ascii=False), encoding='utf-8')\n",
        "for name, url in ANALYSIS_URLS.items():\n",
        "    data = fetch_json(url)\n",
        "    Path(name).write_text(json.dumps(data, indent=2, ensure_ascii=False), encoding='utf-8')"
      ]
    },
    {
      "cell_type": "markdown",
      "id": "15b8776f",
      "metadata": {},
      "source": [
        "## Build HTML lists"
      ]
    },
    {
      "cell_type": "code",
      "execution_count": 29,
      "id": "97f050cb",
      "metadata": {},
      "outputs": [],
      "source": [
        "def load_sorted(path):\n",
        "    text = Path(path).read_text(encoding='utf-8')\n",
        "    items = json.loads(text)\n",
        "    items.sort(key=lambda x: dt.datetime.strptime(x['pubdate'], '%Y-%m-%d-%H-%M-%S %z'), reverse=True)\n",
        "    return [to_entities(i) for i in items]\n",
        "\n",
        "def build_list(data, limit=None):\n",
        "    rows = []\n",
        "    for item in data[:limit] if limit else data:\n",
        "        title = item.get('title') or item.get('headline', 'Untitled')\n",
        "        row = (f\"\"\"\n",
        "            <li><a href=\"{item['link']}\">{title}</a>\n",
        "            <div class='byline small text-muted'>\n",
        "            {item['source']}, \n",
        "            <span class=\"datetime\">{item['pubdate']}</span></div>\n",
        "            </li>\n",
        "        \"\"\")\n",
        "        rows.append(row)\n",
        "    return '\\n'.join(rows)\n",
        "\n",
        "all1h_html = build_list(load_sorted('1h.json'))\n",
        "all24h_html = build_list(load_sorted('24h.json'))\n",
        "all7d_html = build_list(load_sorted('7d.json'))\n",
        "\n",
        "top1h_html = \"\" #build_list(load_sorted('1h.json'), limit=10)\n",
        "top24h_html = \"\" #build_list(json.loads(Path('top.json').read_text(encoding='utf-8')), limit=10)\n",
        "top7d_html = \"\" #build_list(load_sorted('7d.json'), limit=10)"
      ]
    },
    {
      "cell_type": "markdown",
      "id": "36c2eec4",
      "metadata": {},
      "source": [
        "## Compile and save pages"
      ]
    },
    {
      "cell_type": "code",
      "execution_count": 30,
      "id": "632f642a",
      "metadata": {},
      "outputs": [
        {
          "name": "stdout",
          "output_type": "stream",
          "text": [
            "Archive written to archive\\2025-07-24-00-00-00.md\n"
          ]
        }
      ],
      "source": [
        "def fill(template, mapping):\n",
        "    for key, value in mapping.items():\n",
        "        template = template.replace(f'{{{key}}}', value)\n",
        "    return template\n",
        "\n",
        "def write_page(content):\n",
        "    Path('index.md').write_text(content, encoding='utf-8')\n",
        "    archive_dir = Path('archive')\n",
        "    archive_dir.mkdir(exist_ok=True)\n",
        "    ts = dt.datetime.utcnow().strftime('%Y-%m-%d-%H-00-00')\n",
        "    archive_path = archive_dir / f'{ts}.md'\n",
        "    archive_path.write_text(content, encoding='utf-8')\n",
        "    files = sorted(p for p in archive_dir.glob('*.md') if p.name != 'index.md')\n",
        "    lines = ['---\\n','layout: default\\n','title: News Archive\\n','---\\n']\n",
        "    for p in files:\n",
        "        lines.append(f'- [{p.stem}]({p.name})\\n')\n",
        "    (archive_dir/'index.md').write_text(''.join(lines), encoding='utf-8')\n",
        "    print(f'Archive written to {archive_path}')\n",
        "\n",
        "updated = dt.datetime.utcnow().strftime('%Y-%m-%d %H:%M UTC')\n",
        "template = Path('template.md').read_text(encoding='utf-8')\n",
        "page = fill(template, {\n",
        "    'TIME': updated,\n",
        "    'TOP1H': top1h_html,\n",
        "    'TOP24H': top24h_html,\n",
        "    'TOP7D': top7d_html,\n",
        "    'ALL1H': all1h_html,\n",
        "    'ALL24H': all24h_html,\n",
        "    'ALL7D': all7d_html,\n",
        "})\n",
        "write_page(page)"
      ]
    }
  ],
  "metadata": {
    "kernelspec": {
      "display_name": "Python 3",
      "language": "python",
      "name": "python3"
    },
    "language_info": {
      "codemirror_mode": {
        "name": "ipython",
        "version": 3
      },
      "file_extension": ".py",
      "mimetype": "text/x-python",
      "name": "python",
      "nbconvert_exporter": "python",
      "pygments_lexer": "ipython3",
      "version": "3.11.9"
    }
  },
  "nbformat": 4,
  "nbformat_minor": 5
}
