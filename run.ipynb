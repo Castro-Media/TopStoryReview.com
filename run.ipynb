{
  "cells": [
    {
      "cell_type": "markdown",
      "id": "c3e1e176",
      "metadata": {},
      "source": [
        "# Run Script"
      ]
    },
    {
      "cell_type": "markdown",
      "id": "c5bd7ddf",
      "metadata": {},
      "source": [
        "This notebook fetches news data and builds the site."
      ]
    },
    {
      "cell_type": "markdown",
      "id": "58a4383f",
      "metadata": {},
      "source": [
        "## Setup"
      ]
    },
    {
      "cell_type": "code",
      "execution_count": 4,
      "id": "2623c323",
      "metadata": {},
      "outputs": [],
      "source": [
        "import importlib\n",
        "import subprocess\n",
        "import sys\n",
        "from pathlib import Path\n",
        "import json\n",
        "import datetime as dt\n",
        "\n",
        "def ensure(pkg):\n",
        "    try:\n",
        "        return importlib.import_module(pkg)\n",
        "    except ModuleNotFoundError:\n",
        "        subprocess.check_call([sys.executable, '-m', 'pip', 'install', pkg])\n",
        "        return importlib.import_module(pkg)\n",
        "\n",
        "requests = ensure('requests')"
      ]
    },
    {
      "cell_type": "markdown",
      "id": "8c724476",
      "metadata": {},
      "source": [
        "## Fetch latest data"
      ]
    },
    {
      "cell_type": "code",
      "execution_count": 5,
      "id": "e4ead0a5",
      "metadata": {},
      "outputs": [
        {
          "name": "stdout",
          "output_type": "stream",
          "text": [
            "Error fetching https://analysis.castromedia.org/analysis/headline_analysis/topl24h.json: 404 Client Error: Not Found for url: https://analysis.castromedia.org/analysis/headline_analysis/topl24h.json\n"
          ]
        }
      ],
      "source": [
        "def fetch_json(url):\n",
        "    resp = requests.get(url)\n",
        "    resp.raise_for_status()\n",
        "    return resp.json()\n",
        "\n",
        "def to_entities(obj):\n",
        "    if isinstance(obj, str):\n",
        "        return obj.encode('ascii', 'xmlcharrefreplace').decode('ascii')\n",
        "    if isinstance(obj, list):\n",
        "        return [to_entities(x) for x in obj]\n",
        "    if isinstance(obj, dict):\n",
        "        return {k: to_entities(v) for k, v in obj.items()}\n",
        "    return obj\n",
        "\n",
        "TOP_URL = 'https://analysis.castromedia.org/analysis/news-topics/top.json'\n",
        "ANALYSIS_URLS = {\n",
        "    'all1h.json': 'https://analysis.castromedia.org/analysis/headline_analysis/all1h.json',\n",
        "    'all24h.json': 'https://analysis.castromedia.org/analysis/headline_analysis/all24h.json',\n",
        "    'all7d.json': 'https://analysis.castromedia.org/analysis/headline_analysis/all7d.json',\n",
        "    'top1h.json': 'https://analysis.castromedia.org/analysis/headline_analysis/top1h.json',\n",
        "    'top24h.json': 'https://analysis.castromedia.org/analysis/headline_analysis/topl24h.json',\n",
        "    'top7d.json': 'https://analysis.castromedia.org/analysis/headline_analysis/top7d.json'\n",
        "}\n",
        "\n",
        "Path('top.json').write_text(json.dumps(to_entities(fetch_json(TOP_URL)), indent=2, ensure_ascii=False), encoding='utf-8')\n",
        "for name, url in ANALYSIS_URLS.items():\n",
        "\n",
        "    ## Fetch the data and write it to a file, handle any potential errors\n",
        "    try:\n",
        "        data = fetch_json(url)\n",
        "        Path(name).write_text(json.dumps(data, indent=2, ensure_ascii=False), encoding='utf-8')\n",
        "    except requests.RequestException as e:\n",
        "        print(f\"Error fetching {url}: {e}\")\n",
        "        continue\n"
      ]
    },
    {
      "cell_type": "markdown",
      "id": "15b8776f",
      "metadata": {},
      "source": [
        "## Build HTML lists"
      ]
    },
    {
      "cell_type": "code",
      "execution_count": 6,
      "id": "97f050cb",
      "metadata": {},
      "outputs": [
        {
          "ename": "ValueError",
          "evalue": "time data '' does not match format '%Y-%m-%d-%H-%M-%S %z'",
          "output_type": "error",
          "traceback": [
            "\u001b[31m---------------------------------------------------------------------------\u001b[39m",
            "\u001b[31mValueError\u001b[39m                                Traceback (most recent call last)",
            "\u001b[36mCell\u001b[39m\u001b[36m \u001b[39m\u001b[32mIn[6]\u001b[39m\u001b[32m, line 25\u001b[39m\n\u001b[32m     22\u001b[39m all24h_html = build_list(load_sorted(\u001b[33m'\u001b[39m\u001b[33mall24h.json\u001b[39m\u001b[33m'\u001b[39m))\n\u001b[32m     23\u001b[39m all7d_html = build_list(load_sorted(\u001b[33m'\u001b[39m\u001b[33mall7d.json\u001b[39m\u001b[33m'\u001b[39m))\n\u001b[32m---> \u001b[39m\u001b[32m25\u001b[39m top1h_html = build_list(\u001b[43mload_sorted\u001b[49m\u001b[43m(\u001b[49m\u001b[33;43m'\u001b[39;49m\u001b[33;43mtop1h.json\u001b[39;49m\u001b[33;43m'\u001b[39;49m\u001b[43m)\u001b[49m, limit=\u001b[32m10\u001b[39m)\n\u001b[32m     26\u001b[39m top24h_html = build_list(load_sorted(\u001b[33m'\u001b[39m\u001b[33mtop24h.json\u001b[39m\u001b[33m'\u001b[39m), limit=\u001b[32m10\u001b[39m)\n\u001b[32m     27\u001b[39m top7d_html = build_list(load_sorted(\u001b[33m'\u001b[39m\u001b[33mtop7d.json\u001b[39m\u001b[33m'\u001b[39m), limit=\u001b[32m10\u001b[39m)\n",
            "\u001b[36mCell\u001b[39m\u001b[36m \u001b[39m\u001b[32mIn[6]\u001b[39m\u001b[32m, line 4\u001b[39m, in \u001b[36mload_sorted\u001b[39m\u001b[34m(path)\u001b[39m\n\u001b[32m      2\u001b[39m text = Path(path).read_text(encoding=\u001b[33m'\u001b[39m\u001b[33mutf-8\u001b[39m\u001b[33m'\u001b[39m)\n\u001b[32m      3\u001b[39m items = json.loads(text)\n\u001b[32m----> \u001b[39m\u001b[32m4\u001b[39m \u001b[43mitems\u001b[49m\u001b[43m.\u001b[49m\u001b[43msort\u001b[49m\u001b[43m(\u001b[49m\u001b[43mkey\u001b[49m\u001b[43m=\u001b[49m\u001b[38;5;28;43;01mlambda\u001b[39;49;00m\u001b[43m \u001b[49m\u001b[43mx\u001b[49m\u001b[43m:\u001b[49m\u001b[43m \u001b[49m\u001b[43mdt\u001b[49m\u001b[43m.\u001b[49m\u001b[43mdatetime\u001b[49m\u001b[43m.\u001b[49m\u001b[43mstrptime\u001b[49m\u001b[43m(\u001b[49m\u001b[43mx\u001b[49m\u001b[43m[\u001b[49m\u001b[33;43m'\u001b[39;49m\u001b[33;43mpubdate\u001b[39;49m\u001b[33;43m'\u001b[39;49m\u001b[43m]\u001b[49m\u001b[43m,\u001b[49m\u001b[43m \u001b[49m\u001b[33;43m'\u001b[39;49m\u001b[33;43m%\u001b[39;49m\u001b[33;43mY-\u001b[39;49m\u001b[33;43m%\u001b[39;49m\u001b[33;43mm-\u001b[39;49m\u001b[38;5;132;43;01m%d\u001b[39;49;00m\u001b[33;43m-\u001b[39;49m\u001b[33;43m%\u001b[39;49m\u001b[33;43mH-\u001b[39;49m\u001b[33;43m%\u001b[39;49m\u001b[33;43mM-\u001b[39;49m\u001b[33;43m%\u001b[39;49m\u001b[33;43mS \u001b[39;49m\u001b[33;43m%\u001b[39;49m\u001b[33;43mz\u001b[39;49m\u001b[33;43m'\u001b[39;49m\u001b[43m)\u001b[49m\u001b[43m,\u001b[49m\u001b[43m \u001b[49m\u001b[43mreverse\u001b[49m\u001b[43m=\u001b[49m\u001b[38;5;28;43;01mTrue\u001b[39;49;00m\u001b[43m)\u001b[49m\n\u001b[32m      5\u001b[39m \u001b[38;5;28;01mreturn\u001b[39;00m [to_entities(i) \u001b[38;5;28;01mfor\u001b[39;00m i \u001b[38;5;129;01min\u001b[39;00m items]\n",
            "\u001b[36mCell\u001b[39m\u001b[36m \u001b[39m\u001b[32mIn[6]\u001b[39m\u001b[32m, line 4\u001b[39m, in \u001b[36mload_sorted.<locals>.<lambda>\u001b[39m\u001b[34m(x)\u001b[39m\n\u001b[32m      2\u001b[39m text = Path(path).read_text(encoding=\u001b[33m'\u001b[39m\u001b[33mutf-8\u001b[39m\u001b[33m'\u001b[39m)\n\u001b[32m      3\u001b[39m items = json.loads(text)\n\u001b[32m----> \u001b[39m\u001b[32m4\u001b[39m items.sort(key=\u001b[38;5;28;01mlambda\u001b[39;00m x: \u001b[43mdt\u001b[49m\u001b[43m.\u001b[49m\u001b[43mdatetime\u001b[49m\u001b[43m.\u001b[49m\u001b[43mstrptime\u001b[49m\u001b[43m(\u001b[49m\u001b[43mx\u001b[49m\u001b[43m[\u001b[49m\u001b[33;43m'\u001b[39;49m\u001b[33;43mpubdate\u001b[39;49m\u001b[33;43m'\u001b[39;49m\u001b[43m]\u001b[49m\u001b[43m,\u001b[49m\u001b[43m \u001b[49m\u001b[33;43m'\u001b[39;49m\u001b[33;43m%\u001b[39;49m\u001b[33;43mY-\u001b[39;49m\u001b[33;43m%\u001b[39;49m\u001b[33;43mm-\u001b[39;49m\u001b[38;5;132;43;01m%d\u001b[39;49;00m\u001b[33;43m-\u001b[39;49m\u001b[33;43m%\u001b[39;49m\u001b[33;43mH-\u001b[39;49m\u001b[33;43m%\u001b[39;49m\u001b[33;43mM-\u001b[39;49m\u001b[33;43m%\u001b[39;49m\u001b[33;43mS \u001b[39;49m\u001b[33;43m%\u001b[39;49m\u001b[33;43mz\u001b[39;49m\u001b[33;43m'\u001b[39;49m\u001b[43m)\u001b[49m, reverse=\u001b[38;5;28;01mTrue\u001b[39;00m)\n\u001b[32m      5\u001b[39m \u001b[38;5;28;01mreturn\u001b[39;00m [to_entities(i) \u001b[38;5;28;01mfor\u001b[39;00m i \u001b[38;5;129;01min\u001b[39;00m items]\n",
            "\u001b[36mFile \u001b[39m\u001b[32mC:\\Program Files\\WindowsApps\\PythonSoftwareFoundation.Python.3.11_3.11.2544.0_x64__qbz5n2kfra8p0\\Lib\\_strptime.py:567\u001b[39m, in \u001b[36m_strptime_datetime\u001b[39m\u001b[34m(cls, data_string, format)\u001b[39m\n\u001b[32m    564\u001b[39m \u001b[38;5;28;01mdef\u001b[39;00m\u001b[38;5;250m \u001b[39m\u001b[34m_strptime_datetime\u001b[39m(\u001b[38;5;28mcls\u001b[39m, data_string, \u001b[38;5;28mformat\u001b[39m=\u001b[33m\"\u001b[39m\u001b[38;5;132;01m%a\u001b[39;00m\u001b[33m \u001b[39m\u001b[33m%\u001b[39m\u001b[33mb \u001b[39m\u001b[38;5;132;01m%d\u001b[39;00m\u001b[33m \u001b[39m\u001b[33m%\u001b[39m\u001b[33mH:\u001b[39m\u001b[33m%\u001b[39m\u001b[33mM:\u001b[39m\u001b[33m%\u001b[39m\u001b[33mS \u001b[39m\u001b[33m%\u001b[39m\u001b[33mY\u001b[39m\u001b[33m\"\u001b[39m):\n\u001b[32m    565\u001b[39m \u001b[38;5;250m    \u001b[39m\u001b[33;03m\"\"\"Return a class cls instance based on the input string and the\u001b[39;00m\n\u001b[32m    566\u001b[39m \u001b[33;03m    format string.\"\"\"\u001b[39;00m\n\u001b[32m--> \u001b[39m\u001b[32m567\u001b[39m     tt, fraction, gmtoff_fraction = \u001b[43m_strptime\u001b[49m\u001b[43m(\u001b[49m\u001b[43mdata_string\u001b[49m\u001b[43m,\u001b[49m\u001b[43m \u001b[49m\u001b[38;5;28;43mformat\u001b[39;49m\u001b[43m)\u001b[49m\n\u001b[32m    568\u001b[39m     tzname, gmtoff = tt[-\u001b[32m2\u001b[39m:]\n\u001b[32m    569\u001b[39m     args = tt[:\u001b[32m6\u001b[39m] + (fraction,)\n",
            "\u001b[36mFile \u001b[39m\u001b[32mC:\\Program Files\\WindowsApps\\PythonSoftwareFoundation.Python.3.11_3.11.2544.0_x64__qbz5n2kfra8p0\\Lib\\_strptime.py:349\u001b[39m, in \u001b[36m_strptime\u001b[39m\u001b[34m(data_string, format)\u001b[39m\n\u001b[32m    347\u001b[39m found = format_regex.match(data_string)\n\u001b[32m    348\u001b[39m \u001b[38;5;28;01mif\u001b[39;00m \u001b[38;5;129;01mnot\u001b[39;00m found:\n\u001b[32m--> \u001b[39m\u001b[32m349\u001b[39m     \u001b[38;5;28;01mraise\u001b[39;00m \u001b[38;5;167;01mValueError\u001b[39;00m(\u001b[33m\"\u001b[39m\u001b[33mtime data \u001b[39m\u001b[38;5;132;01m%r\u001b[39;00m\u001b[33m does not match format \u001b[39m\u001b[38;5;132;01m%r\u001b[39;00m\u001b[33m\"\u001b[39m %\n\u001b[32m    350\u001b[39m                      (data_string, \u001b[38;5;28mformat\u001b[39m))\n\u001b[32m    351\u001b[39m \u001b[38;5;28;01mif\u001b[39;00m \u001b[38;5;28mlen\u001b[39m(data_string) != found.end():\n\u001b[32m    352\u001b[39m     \u001b[38;5;28;01mraise\u001b[39;00m \u001b[38;5;167;01mValueError\u001b[39;00m(\u001b[33m\"\u001b[39m\u001b[33munconverted data remains: \u001b[39m\u001b[38;5;132;01m%s\u001b[39;00m\u001b[33m\"\u001b[39m %\n\u001b[32m    353\u001b[39m                       data_string[found.end():])\n",
            "\u001b[31mValueError\u001b[39m: time data '' does not match format '%Y-%m-%d-%H-%M-%S %z'"
          ]
        }
      ],
      "source": [
        "def load_sorted(path):\n",
        "    text = Path(path).read_text(encoding='utf-8')\n",
        "    items = json.loads(text)\n",
        "    items.sort(key=lambda x: dt.datetime.strptime(x['pubdate'], '%Y-%m-%d-%H-%M-%S %z'), reverse=True)\n",
        "    return [to_entities(i) for i in items]\n",
        "\n",
        "def build_list(data, limit=None):\n",
        "    rows = []\n",
        "    for item in data[:limit] if limit else data:\n",
        "        title = item.get('title') or item.get('headline', 'Untitled')\n",
        "        row = (f\"\"\"\n",
        "            <li><a href=\"{item['link']}\">{title}</a>\n",
        "            <div class='byline small text-muted'>\n",
        "            {item['source']}, \n",
        "            <span class=\"datetime\">{item['pubdate']}</span></div>\n",
        "            </li>\n",
        "        \"\"\")\n",
        "        rows.append(row)\n",
        "    return '\\n'.join(rows)\n",
        "\n",
        "all1h_html = build_list(load_sorted('all1h.json'))\n",
        "all24h_html = build_list(load_sorted('all24h.json'))\n",
        "all7d_html = build_list(load_sorted('all7d.json'))\n",
        "\n",
        "top1h_html = build_list(load_sorted('top1h.json'), limit=10)\n",
        "top24h_html = build_list(load_sorted('top24h.json'), limit=10)\n",
        "top7d_html = build_list(load_sorted('top7d.json'), limit=10)"
      ]
    },
    {
      "cell_type": "markdown",
      "id": "36c2eec4",
      "metadata": {},
      "source": [
        "## Compile and save pages"
      ]
    },
    {
      "cell_type": "code",
      "execution_count": null,
      "id": "632f642a",
      "metadata": {},
      "outputs": [
        {
          "name": "stdout",
          "output_type": "stream",
          "text": [
            "Archive written to archive\\2025-07-24-00-00-00.md\n"
          ]
        }
      ],
      "source": [
        "def fill(template, mapping):\n",
        "    for key, value in mapping.items():\n",
        "        template = template.replace(f'{{{key}}}', value)\n",
        "    return template\n",
        "\n",
        "def write_page(content):\n",
        "    Path('index.md').write_text(content, encoding='utf-8')\n",
        "    archive_dir = Path('archive')\n",
        "    archive_dir.mkdir(exist_ok=True)\n",
        "    ts = dt.datetime.utcnow().strftime('%Y-%m-%d-%H-00-00')\n",
        "    archive_path = archive_dir / f'{ts}.md'\n",
        "    archive_path.write_text(content, encoding='utf-8')\n",
        "    files = sorted(p for p in archive_dir.glob('*.md') if p.name != 'index.md')\n",
        "    lines = ['---\\n','layout: default\\n','title: News Archive\\n','---\\n']\n",
        "    for p in files:\n",
        "        lines.append(f'- [{p.stem}]({p.name})\\n')\n",
        "    (archive_dir/'index.md').write_text(''.join(lines), encoding='utf-8')\n",
        "    print(f'Archive written to {archive_path}')\n",
        "\n",
        "updated = dt.datetime.utcnow().strftime('%Y-%m-%d %H:%M UTC')\n",
        "template = Path('template.md').read_text(encoding='utf-8')\n",
        "page = fill(template, {\n",
        "    'TIME': updated,\n",
        "    'TOP1H': top1h_html,\n",
        "    'TOP24H': top24h_html,\n",
        "    'TOP7D': top7d_html,\n",
        "    'ALL1H': all1h_html,\n",
        "    'ALL24H': all24h_html,\n",
        "    'ALL7D': all7d_html,\n",
        "})\n",
        "write_page(page)"
      ]
    }
  ],
  "metadata": {
    "kernelspec": {
      "display_name": "Python 3",
      "language": "python",
      "name": "python3"
    },
    "language_info": {
      "codemirror_mode": {
        "name": "ipython",
        "version": 3
      },
      "file_extension": ".py",
      "mimetype": "text/x-python",
      "name": "python",
      "nbconvert_exporter": "python",
      "pygments_lexer": "ipython3",
      "version": "3.11.9"
    }
  },
  "nbformat": 4,
  "nbformat_minor": 5
}
