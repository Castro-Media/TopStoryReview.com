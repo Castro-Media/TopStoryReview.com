{
  "cells": [
    {
      "cell_type": "markdown",
      "metadata": {},
      "source": [
        "# Run Script"
      ]
    },
    {
      "cell_type": "markdown",
      "metadata": {},
      "source": [
        "This notebook fetches news data and builds the site."
      ]
    },
    {
      "cell_type": "markdown",
      "metadata": {},
      "source": [
        "## Setup"
      ]
    },
    {
      "cell_type": "code",
      "execution_count": null,
      "metadata": {},
      "outputs": [],
      "source": [
        "import importlib",
        "import subprocess",
        "import sys",
        "from pathlib import Path",
        "import json",
        "import datetime as dt",
        "",
        "def ensure(pkg):",
        "    try:",
        "        return importlib.import_module(pkg)",
        "    except ModuleNotFoundError:",
        "        subprocess.check_call([sys.executable, '-m', 'pip', 'install', pkg])",
        "        return importlib.import_module(pkg)",
        "",
        "requests = ensure('requests')"
      ]
    },
    {
      "cell_type": "markdown",
      "metadata": {},
      "source": [
        "## Fetch latest data"
      ]
    },
    {
      "cell_type": "code",
      "execution_count": null,
      "metadata": {},
      "outputs": [],
      "source": [
        "def fetch_json(url):",
        "    resp = requests.get(url)",
        "    resp.raise_for_status()",
        "    return resp.json()",
        "",
        "def to_entities(obj):",
        "    if isinstance(obj, str):",
        "        return obj.encode('ascii', 'xmlcharrefreplace').decode('ascii')",
        "    if isinstance(obj, list):",
        "        return [to_entities(x) for x in obj]",
        "    if isinstance(obj, dict):",
        "        return {k: to_entities(v) for k, v in obj.items()}",
        "    return obj",
        "",
        "TOP_URL = 'https://analysis.castromedia.org/analysis/news-topics/top.json'",
        "ANALYSIS_URLS = {",
        "    '1h.json': 'https://analysis.castromedia.org/analysis/headline_analysis/1h.json',",
        "    '24h.json': 'https://analysis.castromedia.org/analysis/headline_analysis/24h.json',",
        "    '7d.json': 'https://analysis.castromedia.org/analysis/headline_analysis/7d.json',",
        "}",
        "",
        "Path('top.json').write_text(json.dumps(to_entities(fetch_json(TOP_URL)), indent=2, ensure_ascii=False), encoding='utf-8')",
        "for name, url in ANALYSIS_URLS.items():",
        "    data = fetch_json(url)",
        "    Path(name).write_text(json.dumps(data, indent=2, ensure_ascii=False), encoding='utf-8')"
      ]
    },
    {
      "cell_type": "markdown",
      "metadata": {},
      "source": [
        "## Build HTML lists"
      ]
    },
    {
      "cell_type": "code",
      "execution_count": null,
      "metadata": {},
      "outputs": [],
      "source": [
        "def load_sorted(path):",
        "    text = Path(path).read_text(encoding='utf-8')",
        "    items = json.loads(text)",
        "    items.sort(key=lambda x: dt.datetime.strptime(x['pubdate'], '%Y-%m-%d-%H-%M-%S %z'), reverse=True)",
        "    return [to_entities(i) for i in items]",
        "",
        "def build_list(data, limit=None):",
        "    rows = []",
        "    for item in data[:limit] if limit else data:",
        "        title = item.get('title') or item.get('headline', 'Untitled')",
        "        row = (",
        "            f\"<li><a href='{item['link']}'>{title}</a>\"",
        "            f\"<div class='byline small text-muted'>\"",
        "            f\"{item['source']}, \"",
        "            f\"<span class=\"datetime\">{item['pubdate']}</span></div>\"",
        "            f\"</li>\"",
        "        )",
        "        rows.append(row)",
        "    return '",
        "'.join(rows)",
        "",
        "all1h_html = build_list(load_sorted('1h.json'))",
        "all24h_html = build_list(load_sorted('24h.json'))",
        "all7d_html = build_list(load_sorted('7d.json'))",
        "",
        "top1h_html = build_list(load_sorted('1h.json'), limit=10)",
        "top24h_html = build_list(json.loads(Path('top.json').read_text(encoding='utf-8')), limit=10)",
        "top7d_html = build_list(load_sorted('7d.json'), limit=10)"
      ]
    },
    {
      "cell_type": "markdown",
      "metadata": {},
      "source": [
        "## Compile and save pages"
      ]
    },
    {
      "cell_type": "code",
      "execution_count": null,
      "metadata": {},
      "outputs": [],
      "source": [
        "def fill(template, mapping):",
        "    for key, value in mapping.items():",
        "        template = template.replace(f'{{{key}}}', value)",
        "    return template",
        "",
        "def write_page(content):",
        "    Path('index.md').write_text(content, encoding='utf-8')",
        "    archive_dir = Path('archive')",
        "    archive_dir.mkdir(exist_ok=True)",
        "    ts = dt.datetime.utcnow().strftime('%Y-%m-%d-%H-00-00')",
        "    archive_path = archive_dir / f'{ts}.md'",
        "    archive_path.write_text(content, encoding='utf-8')",
        "    files = sorted(p for p in archive_dir.glob('*.md') if p.name != 'index.md')",
        "    lines = ['---",
        "','layout: default",
        "','title: News Archive",
        "','---",
        "",
        "']",
        "    for p in files:",
        "        lines.append(f'- [{p.stem}]({p.name})",
        "')",
        "    (archive_dir/'index.md').write_text(''.join(lines), encoding='utf-8')",
        "    print(f'Archive written to {archive_path}')",
        "",
        "updated = dt.datetime.utcnow().strftime('%Y-%m-%d %H:%M UTC')",
        "template = Path('template.md').read_text(encoding='utf-8')",
        "page = fill(template, {",
        "    'TIME': updated,",
        "    'TOP1H': top1h_html,",
        "    'TOP24H': top24h_html,",
        "    'TOP7D': top7d_html,",
        "    'ALL1H': all1h_html,",
        "    'ALL24H': all24h_html,",
        "    'ALL7D': all7d_html,",
        "})",
        "write_page(page)"
      ]
    }
  ],
  "metadata": {
    "kernelspec": {
      "display_name": "Python 3",
      "language": "python",
      "name": "python3"
    },
    "language_info": {
      "name": "python",
      "version": "3.11.9",
      "mimetype": "text/x-python",
      "codemirror_mode": {
        "name": "ipython",
        "version": 3
      },
      "pygments_lexer": "ipython3",
      "nbconvert_exporter": "python",
      "file_extension": ".py"
    }
  },
  "nbformat": 4,
  "nbformat_minor": 5
}