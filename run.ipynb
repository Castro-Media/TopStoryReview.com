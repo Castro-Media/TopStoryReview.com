{
 "cells": [
  {
   "cell_type": "markdown",
   "id": "c3e1e176",
   "metadata": {},
   "source": [
    "# Run Script"
   ]
  },
  {
   "cell_type": "markdown",
   "id": "c5bd7ddf",
   "metadata": {},
   "source": [
    "This notebook fetches news data and builds the site."
   ]
  },
  {
   "cell_type": "markdown",
   "id": "58a4383f",
   "metadata": {},
   "source": [
    "## Setup"
   ]
  },
  {
   "cell_type": "code",
   "execution_count": 1,
   "id": "2623c323",
   "metadata": {
    "execution": {
     "iopub.execute_input": "2025-10-30T15:08:32.412020Z",
     "iopub.status.busy": "2025-10-30T15:08:32.411748Z",
     "iopub.status.idle": "2025-10-30T15:08:32.604629Z",
     "shell.execute_reply": "2025-10-30T15:08:32.603730Z"
    }
   },
   "outputs": [],
   "source": [
    "import importlib\n",
    "import subprocess\n",
    "import sys\n",
    "from pathlib import Path\n",
    "import json\n",
    "import datetime as dt\n",
    "\n",
    "def ensure(pkg):\n",
    "    try:\n",
    "        return importlib.import_module(pkg)\n",
    "    except ModuleNotFoundError:\n",
    "        subprocess.check_call([sys.executable, '-m', 'pip', 'install', pkg])\n",
    "        return importlib.import_module(pkg)\n",
    "\n",
    "requests = ensure('requests')"
   ]
  },
  {
   "cell_type": "markdown",
   "id": "8c724476",
   "metadata": {},
   "source": [
    "## Fetch latest data"
   ]
  },
  {
   "cell_type": "code",
   "execution_count": 2,
   "id": "e4ead0a5",
   "metadata": {
    "execution": {
     "iopub.execute_input": "2025-10-30T15:08:32.606629Z",
     "iopub.status.busy": "2025-10-30T15:08:32.606415Z",
     "iopub.status.idle": "2025-10-30T15:08:34.135398Z",
     "shell.execute_reply": "2025-10-30T15:08:34.134511Z"
    }
   },
   "outputs": [],
   "source": [
    "def fetch_json(url):\n",
    "    resp = requests.get(url)\n",
    "    resp.raise_for_status()\n",
    "    return resp.json()\n",
    "\n",
    "def to_entities(obj):\n",
    "    if isinstance(obj, str):\n",
    "        return obj.encode('ascii', 'xmlcharrefreplace').decode('ascii')\n",
    "    if isinstance(obj, list):\n",
    "        return [to_entities(x) for x in obj]\n",
    "    if isinstance(obj, dict):\n",
    "        return {k: to_entities(v) for k, v in obj.items()}\n",
    "    return obj\n",
    "\n",
    "TOP_URL = 'https://analysis.castromedia.org/analysis/news-topics/top.json'\n",
    "ANALYSIS_URLS = {\n",
    "    'all1h.json': 'https://analysis.castromedia.org/analysis/headline_analysis/all1h.json',\n",
    "    'all24h.json': 'https://analysis.castromedia.org/analysis/headline_analysis/all24h.json',\n",
    "    'all7d.json': 'https://analysis.castromedia.org/analysis/headline_analysis/all7d.json',\n",
    "    'top1h.json': 'https://analysis.castromedia.org/analysis/headline_analysis/top1h.json',\n",
    "    'top24h.json': 'https://analysis.castromedia.org/analysis/headline_analysis/top24h.json',\n",
    "    'top7d.json': 'https://analysis.castromedia.org/analysis/headline_analysis/top7d.json'\n",
    "}\n",
    "\n",
    "Path('top.json').write_text(json.dumps(to_entities(fetch_json(TOP_URL)), indent=2, ensure_ascii=False), encoding='utf-8')\n",
    "for name, url in ANALYSIS_URLS.items():\n",
    "\n",
    "    ## Fetch the data and write it to a file, handle any potential errors\n",
    "    try:\n",
    "        data = fetch_json(url)\n",
    "        Path(name).write_text(json.dumps(data, indent=2, ensure_ascii=False), encoding='utf-8')\n",
    "    except requests.RequestException as e:\n",
    "        print(f\"Error fetching {url}: {e}\")\n",
    "        continue\n"
   ]
  },
  {
   "cell_type": "markdown",
   "id": "15b8776f",
   "metadata": {},
   "source": [
    "## Build HTML lists"
   ]
  },
  {
   "cell_type": "code",
   "execution_count": 3,
   "id": "97f050cb",
   "metadata": {
    "execution": {
     "iopub.execute_input": "2025-10-30T15:08:34.137230Z",
     "iopub.status.busy": "2025-10-30T15:08:34.137060Z",
     "iopub.status.idle": "2025-10-30T15:08:34.149178Z",
     "shell.execute_reply": "2025-10-30T15:08:34.148367Z"
    }
   },
   "outputs": [],
   "source": [
    "\n",
    "def load_sorted(path):\n",
    "    \"\"\"Return items from a JSON file.\"\"\"\n",
    "    text = Path(path).read_text(encoding='utf-8')\n",
    "    if not text.strip():\n",
    "        return []\n",
    "    try:\n",
    "        items = json.loads(text)\n",
    "    except json.JSONDecodeError:\n",
    "        return []\n",
    "    result = []\n",
    "    for item in items:\n",
    "        result.append(to_entities(item))\n",
    "    return result\n",
    "\n",
    "def build_list(data, limit=None):\n",
    "    \"\"\"Convert items to an HTML list.\"\"\"\n",
    "    if not data:\n",
    "        return ''\n",
    "    rows = []\n",
    "    items = data[:limit] if limit else data\n",
    "    for item in items:\n",
    "        title = item.get('title') or item.get('headline') or 'Untitled'\n",
    "        row = (f\"\"\"\n",
    "            <li><a href=\"{item.get('link', '')}\">{title}</a>\n",
    "            <div class='byline small text-muted'>\n",
    "            {item.get('source', '')}, \n",
    "            <span class=\"datetime\">{item.get('pubdate', '')}</span></div>\n",
    "            </li>\n",
    "        \"\"\")\n",
    "        rows.append(row)\n",
    "    return '\\n'.join(rows)\n",
    "\n",
    "all1h_html = build_list(load_sorted('all1h.json'))\n",
    "all24h_html = build_list(load_sorted('all24h.json'))\n",
    "all7d_html = build_list(load_sorted('all7d.json'))\n",
    "\n",
    "top1h_html = build_list(load_sorted('top1h.json'), limit=10)\n",
    "top24h_html = build_list(load_sorted('top24h.json'), limit=10)\n",
    "top7d_html = build_list(load_sorted('top7d.json'), limit=10)\n"
   ]
  },
  {
   "cell_type": "markdown",
   "id": "36c2eec4",
   "metadata": {},
   "source": [
    "## Compile and save pages"
   ]
  },
  {
   "cell_type": "code",
   "execution_count": 4,
   "id": "632f642a",
   "metadata": {
    "execution": {
     "iopub.execute_input": "2025-10-30T15:08:34.150810Z",
     "iopub.status.busy": "2025-10-30T15:08:34.150645Z",
     "iopub.status.idle": "2025-10-30T15:08:34.185749Z",
     "shell.execute_reply": "2025-10-30T15:08:34.184888Z"
    }
   },
   "outputs": [
    {
     "name": "stdout",
     "output_type": "stream",
     "text": [
      "Archive written to archive/2025-10-30-15-00-00.md\n"
     ]
    },
    {
     "name": "stderr",
     "output_type": "stream",
     "text": [
      "/tmp/ipykernel_2126/431873869.py:20: DeprecationWarning: datetime.datetime.utcnow() is deprecated and scheduled for removal in a future version. Use timezone-aware objects to represent datetimes in UTC: datetime.datetime.now(datetime.UTC).\n",
      "  updated = dt.datetime.utcnow().strftime('%Y-%m-%d %H:%M UTC')\n",
      "/tmp/ipykernel_2126/431873869.py:10: DeprecationWarning: datetime.datetime.utcnow() is deprecated and scheduled for removal in a future version. Use timezone-aware objects to represent datetimes in UTC: datetime.datetime.now(datetime.UTC).\n",
      "  ts = dt.datetime.utcnow().strftime('%Y-%m-%d-%H-00-00')\n"
     ]
    }
   ],
   "source": [
    "def fill(template, mapping):\n",
    "    for key, value in mapping.items():\n",
    "        template = template.replace(f'{{{key}}}', value)\n",
    "    return template\n",
    "\n",
    "def write_page(content):\n",
    "    Path('index.md').write_text(content, encoding='utf-8')\n",
    "    archive_dir = Path('archive')\n",
    "    archive_dir.mkdir(exist_ok=True)\n",
    "    ts = dt.datetime.utcnow().strftime('%Y-%m-%d-%H-00-00')\n",
    "    archive_path = archive_dir / f'{ts}.md'\n",
    "    archive_path.write_text(content, encoding='utf-8')\n",
    "    files = sorted(p for p in archive_dir.glob('*.md') if p.name != 'index.md')\n",
    "    lines = ['---\\n','layout: default\\n','title: News Archive\\n','---\\n']\n",
    "    for p in files:\n",
    "        lines.append(f'- [{p.stem}]({p.name})\\n')\n",
    "    (archive_dir/'index.md').write_text(''.join(lines), encoding='utf-8')\n",
    "    print(f'Archive written to {archive_path}')\n",
    "\n",
    "updated = dt.datetime.utcnow().strftime('%Y-%m-%d %H:%M UTC')\n",
    "template = Path('template.md').read_text(encoding='utf-8')\n",
    "page = fill(template, {\n",
    "    'TIME': updated,\n",
    "    'TOP1H': top1h_html,\n",
    "    'TOP24H': top24h_html,\n",
    "    'TOP7D': top7d_html,\n",
    "    'ALL1H': all1h_html,\n",
    "    'ALL24H': all24h_html,\n",
    "    'ALL7D': all7d_html,\n",
    "})\n",
    "write_page(page)"
   ]
  }
 ],
 "metadata": {
  "kernelspec": {
   "display_name": "Python 3",
   "language": "python",
   "name": "python3"
  },
  "language_info": {
   "codemirror_mode": {
    "name": "ipython",
    "version": 3
   },
   "file_extension": ".py",
   "mimetype": "text/x-python",
   "name": "python",
   "nbconvert_exporter": "python",
   "pygments_lexer": "ipython3",
   "version": "3.13.7"
  }
 },
 "nbformat": 4,
 "nbformat_minor": 5
}
